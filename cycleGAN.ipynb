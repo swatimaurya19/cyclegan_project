{
  "cells": [
    {
      "cell_type": "markdown",
      "metadata": {
        "id": "view-in-github",
        "colab_type": "text"
      },
      "source": [
        "<a href=\"https://colab.research.google.com/github/swatimaurya19/cyclegan_project/blob/main/cycleGAN.ipynb\" target=\"_parent\"><img src=\"https://colab.research.google.com/assets/colab-badge.svg\" alt=\"Open In Colab\"/></a>"
      ]
    },
    {
      "cell_type": "code",
      "execution_count": null,
      "metadata": {
        "colab": {
          "background_save": true
        },
        "id": "jWNoz8gqXwdT"
      },
      "outputs": [],
      "source": [
        "# loading in and transforming data\n",
        "import os\n",
        "import torch\n",
        "from torch.utils.data import DataLoader\n",
        "import torchvision\n",
        "import torchvision.datasets as datasets\n",
        "import torchvision.transforms as transforms\n",
        "\n",
        "# visualizing data\n",
        "import matplotlib.pyplot as plt\n",
        "import numpy as np\n",
        "import warnings\n",
        "\n",
        "%matplotlib inline"
      ]
    },
    {
      "cell_type": "code",
      "execution_count": null,
      "metadata": {
        "id": "d2V36GyuddHU"
      },
      "outputs": [],
      "source": [
        "\n",
        "# base package\n",
        "import torch\n",
        "# neural network package\n",
        "from torch import nn\n",
        "# torchvision from image processing\n",
        "import torchvision\n",
        "# to load dataset from torchvision\n",
        "from torchvision import datasets\n",
        "# to perform transform and augmentation\n",
        "from torchvision.transforms import ToTensor\n",
        "import torch.nn.functional as F\n",
        "# to plot images data\n",
        "import matplotlib.pyplot as plt\n"
      ]
    },
    {
      "cell_type": "code",
      "execution_count": null,
      "metadata": {
        "colab": {
          "base_uri": "https://localhost:8080/"
        },
        "id": "4FNGNMz-mZ18",
        "outputId": "8859031f-296c-4971-9681-691c62faebfa"
      },
      "outputs": [
        {
          "name": "stdout",
          "output_type": "stream",
          "text": [
            "Archive:  /content/summer2winter-yosemite.zip\n",
            "  End-of-central-directory signature not found.  Either this file is not\n",
            "  a zipfile, or it constitutes one disk of a multi-part archive.  In the\n",
            "  latter case the central directory and zipfile comment will be found on\n",
            "  the last disk(s) of this archive.\n",
            "unzip:  cannot find zipfile directory in one of /content/summer2winter-yosemite.zip or\n",
            "        /content/summer2winter-yosemite.zip.zip, and cannot find /content/summer2winter-yosemite.zip.ZIP, period.\n"
          ]
        }
      ],
      "source": [
        "!unzip /content/summer2winter-yosemite.zip"
      ]
    },
    {
      "cell_type": "code",
      "execution_count": null,
      "metadata": {
        "id": "xQp_uVIUYRJP"
      },
      "outputs": [],
      "source": [
        "def get_data_loader(image_type, image_dir='/content/summer2winter-yosemite.zip',\n",
        "                    image_size=128, batch_size=16, num_workers=0):\n",
        "    \"\"\"Returns training and test data loaders for a given image type, either 'summer' or 'winter'.\n",
        "       These images will be resized to 128x128x3, by default, converted into Tensors, and normalized.\n",
        "    \"\"\"\n",
        "\n",
        "    # resize and normalize the images\n",
        "    transform = transforms.Compose([transforms.Resize(image_size), # resize to 128x128\n",
        "                                    transforms.ToTensor()])\n",
        "\n",
        "    # get training and test directories\n",
        "    image_path = './' + image_dir\n",
        "    train_path = os.path.join(image_path, image_type)\n",
        "    test_path = os.path.join(image_path, 'test_{}'.format(image_type))\n",
        "\n",
        "    # define datasets using ImageFolder\n",
        "    train_dataset = datasets.ImageFolder(train_path, transform)\n",
        "    test_dataset = datasets.ImageFolder(test_path, transform)\n",
        "\n",
        "    # create and return DataLoaders\n",
        "    train_loader = DataLoader(dataset=train_dataset, batch_size=batch_size, shuffle=True, num_workers=num_workers)\n",
        "    test_loader = DataLoader(dataset=test_dataset, batch_size=batch_size, shuffle=False, num_workers=num_workers)\n",
        "\n",
        "    return train_loader, test_loader"
      ]
    },
    {
      "cell_type": "code",
      "execution_count": null,
      "metadata": {
        "colab": {
          "base_uri": "https://localhost:8080/"
        },
        "id": "1HpoCK6BlLI-",
        "outputId": "a0e25097-80c2-4a29-d66d-7d5d917011fb"
      },
      "outputs": [
        {
          "name": "stdout",
          "output_type": "stream",
          "text": [
            "fatal: destination path 'CycleGAN-in-Pytorch' already exists and is not an empty directory.\n"
          ]
        }
      ],
      "source": [
        "!git clone https://github.com/vjrahil/CycleGAN-in-Pytorch"
      ]
    },
    {
      "cell_type": "code",
      "execution_count": null,
      "metadata": {
        "colab": {
          "background_save": true,
          "base_uri": "https://localhost:8080/",
          "height": 363
        },
        "id": "-R9Lxgf6e1qt",
        "outputId": "ae60349e-42da-4852-ca81-4938e5a7bf92"
      },
      "outputs": [
        {
          "ename": "FileNotFoundError",
          "evalue": "ignored",
          "output_type": "error",
          "traceback": [
            "\u001b[0;31m---------------------------------------------------------------------------\u001b[0m",
            "\u001b[0;31mFileNotFoundError\u001b[0m                         Traceback (most recent call last)",
            "\u001b[0;32m<ipython-input-12-fa24ab3ff99f>\u001b[0m in \u001b[0;36m<cell line: 9>\u001b[0;34m()\u001b[0m\n\u001b[1;32m      7\u001b[0m \u001b[0;31m# Create train and test dataloaders for images from the two domains X and Y\u001b[0m\u001b[0;34m\u001b[0m\u001b[0;34m\u001b[0m\u001b[0m\n\u001b[1;32m      8\u001b[0m \u001b[0;31m# image_type = directory names for our data\u001b[0m\u001b[0;34m\u001b[0m\u001b[0;34m\u001b[0m\u001b[0m\n\u001b[0;32m----> 9\u001b[0;31m \u001b[0mdataloader_X\u001b[0m\u001b[0;34m,\u001b[0m \u001b[0mtest_dataloader_X\u001b[0m \u001b[0;34m=\u001b[0m \u001b[0mget_data_loader\u001b[0m\u001b[0;34m(\u001b[0m\u001b[0mimage_type\u001b[0m\u001b[0;34m=\u001b[0m\u001b[0;34m'summer'\u001b[0m\u001b[0;34m)\u001b[0m\u001b[0;34m\u001b[0m\u001b[0;34m\u001b[0m\u001b[0m\n\u001b[0m\u001b[1;32m     10\u001b[0m \u001b[0mdataloader_Y\u001b[0m\u001b[0;34m,\u001b[0m \u001b[0mtest_dataloader_Y\u001b[0m \u001b[0;34m=\u001b[0m \u001b[0mget_data_loader\u001b[0m\u001b[0;34m(\u001b[0m\u001b[0mimage_type\u001b[0m\u001b[0;34m=\u001b[0m\u001b[0;34m'winter'\u001b[0m\u001b[0;34m)\u001b[0m\u001b[0;34m\u001b[0m\u001b[0;34m\u001b[0m\u001b[0m\n",
            "\u001b[0;32m<ipython-input-9-509bf42c76a9>\u001b[0m in \u001b[0;36mget_data_loader\u001b[0;34m(image_type, image_dir, image_size, batch_size, num_workers)\u001b[0m\n\u001b[1;32m     15\u001b[0m \u001b[0;34m\u001b[0m\u001b[0m\n\u001b[1;32m     16\u001b[0m     \u001b[0;31m# define datasets using ImageFolder\u001b[0m\u001b[0;34m\u001b[0m\u001b[0;34m\u001b[0m\u001b[0m\n\u001b[0;32m---> 17\u001b[0;31m     \u001b[0mtrain_dataset\u001b[0m \u001b[0;34m=\u001b[0m \u001b[0mdatasets\u001b[0m\u001b[0;34m.\u001b[0m\u001b[0mImageFolder\u001b[0m\u001b[0;34m(\u001b[0m\u001b[0mtrain_path\u001b[0m\u001b[0;34m,\u001b[0m \u001b[0mtransform\u001b[0m\u001b[0;34m)\u001b[0m\u001b[0;34m\u001b[0m\u001b[0;34m\u001b[0m\u001b[0m\n\u001b[0m\u001b[1;32m     18\u001b[0m     \u001b[0mtest_dataset\u001b[0m \u001b[0;34m=\u001b[0m \u001b[0mdatasets\u001b[0m\u001b[0;34m.\u001b[0m\u001b[0mImageFolder\u001b[0m\u001b[0;34m(\u001b[0m\u001b[0mtest_path\u001b[0m\u001b[0;34m,\u001b[0m \u001b[0mtransform\u001b[0m\u001b[0;34m)\u001b[0m\u001b[0;34m\u001b[0m\u001b[0;34m\u001b[0m\u001b[0m\n\u001b[1;32m     19\u001b[0m \u001b[0;34m\u001b[0m\u001b[0m\n",
            "\u001b[0;32m/usr/local/lib/python3.10/dist-packages/torchvision/datasets/folder.py\u001b[0m in \u001b[0;36m__init__\u001b[0;34m(self, root, transform, target_transform, loader, is_valid_file)\u001b[0m\n\u001b[1;32m    307\u001b[0m         \u001b[0mis_valid_file\u001b[0m\u001b[0;34m:\u001b[0m \u001b[0mOptional\u001b[0m\u001b[0;34m[\u001b[0m\u001b[0mCallable\u001b[0m\u001b[0;34m[\u001b[0m\u001b[0;34m[\u001b[0m\u001b[0mstr\u001b[0m\u001b[0;34m]\u001b[0m\u001b[0;34m,\u001b[0m \u001b[0mbool\u001b[0m\u001b[0;34m]\u001b[0m\u001b[0;34m]\u001b[0m \u001b[0;34m=\u001b[0m \u001b[0;32mNone\u001b[0m\u001b[0;34m,\u001b[0m\u001b[0;34m\u001b[0m\u001b[0;34m\u001b[0m\u001b[0m\n\u001b[1;32m    308\u001b[0m     ):\n\u001b[0;32m--> 309\u001b[0;31m         super().__init__(\n\u001b[0m\u001b[1;32m    310\u001b[0m             \u001b[0mroot\u001b[0m\u001b[0;34m,\u001b[0m\u001b[0;34m\u001b[0m\u001b[0;34m\u001b[0m\u001b[0m\n\u001b[1;32m    311\u001b[0m             \u001b[0mloader\u001b[0m\u001b[0;34m,\u001b[0m\u001b[0;34m\u001b[0m\u001b[0;34m\u001b[0m\u001b[0m\n",
            "\u001b[0;32m/usr/local/lib/python3.10/dist-packages/torchvision/datasets/folder.py\u001b[0m in \u001b[0;36m__init__\u001b[0;34m(self, root, loader, extensions, transform, target_transform, is_valid_file)\u001b[0m\n\u001b[1;32m    142\u001b[0m     ) -> None:\n\u001b[1;32m    143\u001b[0m         \u001b[0msuper\u001b[0m\u001b[0;34m(\u001b[0m\u001b[0;34m)\u001b[0m\u001b[0;34m.\u001b[0m\u001b[0m__init__\u001b[0m\u001b[0;34m(\u001b[0m\u001b[0mroot\u001b[0m\u001b[0;34m,\u001b[0m \u001b[0mtransform\u001b[0m\u001b[0;34m=\u001b[0m\u001b[0mtransform\u001b[0m\u001b[0;34m,\u001b[0m \u001b[0mtarget_transform\u001b[0m\u001b[0;34m=\u001b[0m\u001b[0mtarget_transform\u001b[0m\u001b[0;34m)\u001b[0m\u001b[0;34m\u001b[0m\u001b[0;34m\u001b[0m\u001b[0m\n\u001b[0;32m--> 144\u001b[0;31m         \u001b[0mclasses\u001b[0m\u001b[0;34m,\u001b[0m \u001b[0mclass_to_idx\u001b[0m \u001b[0;34m=\u001b[0m \u001b[0mself\u001b[0m\u001b[0;34m.\u001b[0m\u001b[0mfind_classes\u001b[0m\u001b[0;34m(\u001b[0m\u001b[0mself\u001b[0m\u001b[0;34m.\u001b[0m\u001b[0mroot\u001b[0m\u001b[0;34m)\u001b[0m\u001b[0;34m\u001b[0m\u001b[0;34m\u001b[0m\u001b[0m\n\u001b[0m\u001b[1;32m    145\u001b[0m         \u001b[0msamples\u001b[0m \u001b[0;34m=\u001b[0m \u001b[0mself\u001b[0m\u001b[0;34m.\u001b[0m\u001b[0mmake_dataset\u001b[0m\u001b[0;34m(\u001b[0m\u001b[0mself\u001b[0m\u001b[0;34m.\u001b[0m\u001b[0mroot\u001b[0m\u001b[0;34m,\u001b[0m \u001b[0mclass_to_idx\u001b[0m\u001b[0;34m,\u001b[0m \u001b[0mextensions\u001b[0m\u001b[0;34m,\u001b[0m \u001b[0mis_valid_file\u001b[0m\u001b[0;34m)\u001b[0m\u001b[0;34m\u001b[0m\u001b[0;34m\u001b[0m\u001b[0m\n\u001b[1;32m    146\u001b[0m \u001b[0;34m\u001b[0m\u001b[0m\n",
            "\u001b[0;32m/usr/local/lib/python3.10/dist-packages/torchvision/datasets/folder.py\u001b[0m in \u001b[0;36mfind_classes\u001b[0;34m(self, directory)\u001b[0m\n\u001b[1;32m    216\u001b[0m             \u001b[0;34m(\u001b[0m\u001b[0mTuple\u001b[0m\u001b[0;34m[\u001b[0m\u001b[0mList\u001b[0m\u001b[0;34m[\u001b[0m\u001b[0mstr\u001b[0m\u001b[0;34m]\u001b[0m\u001b[0;34m,\u001b[0m \u001b[0mDict\u001b[0m\u001b[0;34m[\u001b[0m\u001b[0mstr\u001b[0m\u001b[0;34m,\u001b[0m \u001b[0mint\u001b[0m\u001b[0;34m]\u001b[0m\u001b[0;34m]\u001b[0m\u001b[0;34m)\u001b[0m\u001b[0;34m:\u001b[0m \u001b[0mList\u001b[0m \u001b[0mof\u001b[0m \u001b[0mall\u001b[0m \u001b[0mclasses\u001b[0m \u001b[0;32mand\u001b[0m \u001b[0mdictionary\u001b[0m \u001b[0mmapping\u001b[0m \u001b[0meach\u001b[0m \u001b[0;32mclass\u001b[0m \u001b[0mto\u001b[0m \u001b[0man\u001b[0m \u001b[0mindex\u001b[0m\u001b[0;34m.\u001b[0m\u001b[0;34m\u001b[0m\u001b[0;34m\u001b[0m\u001b[0m\n\u001b[1;32m    217\u001b[0m         \"\"\"\n\u001b[0;32m--> 218\u001b[0;31m         \u001b[0;32mreturn\u001b[0m \u001b[0mfind_classes\u001b[0m\u001b[0;34m(\u001b[0m\u001b[0mdirectory\u001b[0m\u001b[0;34m)\u001b[0m\u001b[0;34m\u001b[0m\u001b[0;34m\u001b[0m\u001b[0m\n\u001b[0m\u001b[1;32m    219\u001b[0m \u001b[0;34m\u001b[0m\u001b[0m\n\u001b[1;32m    220\u001b[0m     \u001b[0;32mdef\u001b[0m \u001b[0m__getitem__\u001b[0m\u001b[0;34m(\u001b[0m\u001b[0mself\u001b[0m\u001b[0;34m,\u001b[0m \u001b[0mindex\u001b[0m\u001b[0;34m:\u001b[0m \u001b[0mint\u001b[0m\u001b[0;34m)\u001b[0m \u001b[0;34m->\u001b[0m \u001b[0mTuple\u001b[0m\u001b[0;34m[\u001b[0m\u001b[0mAny\u001b[0m\u001b[0;34m,\u001b[0m \u001b[0mAny\u001b[0m\u001b[0;34m]\u001b[0m\u001b[0;34m:\u001b[0m\u001b[0;34m\u001b[0m\u001b[0;34m\u001b[0m\u001b[0m\n",
            "\u001b[0;32m/usr/local/lib/python3.10/dist-packages/torchvision/datasets/folder.py\u001b[0m in \u001b[0;36mfind_classes\u001b[0;34m(directory)\u001b[0m\n\u001b[1;32m     38\u001b[0m     \u001b[0mSee\u001b[0m \u001b[0;34m:\u001b[0m\u001b[0;32mclass\u001b[0m\u001b[0;34m:\u001b[0m\u001b[0;31m`\u001b[0m\u001b[0mDatasetFolder\u001b[0m\u001b[0;31m`\u001b[0m \u001b[0;32mfor\u001b[0m \u001b[0mdetails\u001b[0m\u001b[0;34m.\u001b[0m\u001b[0;34m\u001b[0m\u001b[0;34m\u001b[0m\u001b[0m\n\u001b[1;32m     39\u001b[0m     \"\"\"\n\u001b[0;32m---> 40\u001b[0;31m     \u001b[0mclasses\u001b[0m \u001b[0;34m=\u001b[0m \u001b[0msorted\u001b[0m\u001b[0;34m(\u001b[0m\u001b[0mentry\u001b[0m\u001b[0;34m.\u001b[0m\u001b[0mname\u001b[0m \u001b[0;32mfor\u001b[0m \u001b[0mentry\u001b[0m \u001b[0;32min\u001b[0m \u001b[0mos\u001b[0m\u001b[0;34m.\u001b[0m\u001b[0mscandir\u001b[0m\u001b[0;34m(\u001b[0m\u001b[0mdirectory\u001b[0m\u001b[0;34m)\u001b[0m \u001b[0;32mif\u001b[0m \u001b[0mentry\u001b[0m\u001b[0;34m.\u001b[0m\u001b[0mis_dir\u001b[0m\u001b[0;34m(\u001b[0m\u001b[0;34m)\u001b[0m\u001b[0;34m)\u001b[0m\u001b[0;34m\u001b[0m\u001b[0;34m\u001b[0m\u001b[0m\n\u001b[0m\u001b[1;32m     41\u001b[0m     \u001b[0;32mif\u001b[0m \u001b[0;32mnot\u001b[0m \u001b[0mclasses\u001b[0m\u001b[0;34m:\u001b[0m\u001b[0;34m\u001b[0m\u001b[0;34m\u001b[0m\u001b[0m\n\u001b[1;32m     42\u001b[0m         \u001b[0;32mraise\u001b[0m \u001b[0mFileNotFoundError\u001b[0m\u001b[0;34m(\u001b[0m\u001b[0;34mf\"Couldn't find any class folder in {directory}.\"\u001b[0m\u001b[0;34m)\u001b[0m\u001b[0;34m\u001b[0m\u001b[0;34m\u001b[0m\u001b[0m\n",
            "\u001b[0;31mFileNotFoundError\u001b[0m: [Errno 2] No such file or directory: './/content/summer2winter-yosemite.zip/summer'"
          ]
        }
      ],
      "source": [
        "#  summer_dir = '/content/CycleGAN-in-Pytorch/notebook_images/sample-004000-summer2winter.png'\n",
        "#  winter_dir = '/content/CycleGAN-in-Pytorch/notebook_images/sample-004000-summer2winter.png'\n",
        "\n",
        "# # Create train and test dataloaders for images from the two domains X and Y\n",
        "# dataloader_X, test_dataloader_X = get_data_loader(image_type=summer_dir)\n",
        "# dataloader_Y, test_dataloader_Y = get_data_loader(image_type=winter_dir)\n",
        "# Create train and test dataloaders for images from the two domains X and Y\n",
        "# image_type = directory names for our data\n",
        "dataloader_X, test_dataloader_X = get_data_loader(image_type='summer')\n",
        "dataloader_Y, test_dataloader_Y = get_data_loader(image_type='winter')"
      ]
    },
    {
      "cell_type": "code",
      "execution_count": null,
      "metadata": {
        "id": "2ec6cWYtarEu"
      },
      "outputs": [],
      "source": [
        "# helper imshow function\n",
        "def imshow(img):\n",
        "    npimg = img.numpy()\n",
        "    plt.imshow(np.transpose(npimg, (1, 2, 0)))\n",
        "\n",
        "\n",
        "# get some images from X\n",
        "dataiter = iter(dataloader_X)\n",
        "# the \"_\" is a placeholder for no labels\n",
        "images, _ = dataiter.next()\n",
        "\n",
        "# show images\n",
        "fig = plt.figure(figsize=(15, 8))\n",
        "imshow(torchvision.utils.make_grid(images))"
      ]
    },
    {
      "cell_type": "code",
      "execution_count": null,
      "metadata": {
        "id": "OUm8JRZHatxc"
      },
      "outputs": [],
      "source": [
        "# get some images from Y\n",
        "dataiter = iter(dataloader_Y)\n",
        "images, _ = dataiter.next()\n",
        "\n",
        "# show images\n",
        "fig = plt.figure(figsize=(15,8))\n",
        "imshow(torchvision.utils.make_grid(images))"
      ]
    },
    {
      "cell_type": "code",
      "execution_count": null,
      "metadata": {
        "id": "xqpINhcAaySa"
      },
      "outputs": [],
      "source": [
        "# current range\n",
        "img = images[0]\n",
        "\n",
        "print('Min: ', img.min())\n",
        "print('Max: ', img.max())"
      ]
    },
    {
      "cell_type": "code",
      "execution_count": null,
      "metadata": {
        "id": "hRGz8qGia2qI"
      },
      "outputs": [],
      "source": [
        "# helper scale function\n",
        "def scale(x, feature_range=(-1, 1)):\n",
        "    ''' Scale takes in an image x and returns that image, scaled\n",
        "       with a feature_range of pixel values from -1 to 1.\n",
        "       This function assumes that the input x is already scaled from 0-1.'''\n",
        "\n",
        "    # scale from 0-1 to feature_range\n",
        "    min, max = feature_range\n",
        "    x = x * (max - min) + min\n",
        "    return x"
      ]
    },
    {
      "cell_type": "code",
      "execution_count": null,
      "metadata": {
        "id": "GwIqKtwXa3pp"
      },
      "outputs": [],
      "source": [
        "# scaled range\n",
        "scaled_img = scale(img)\n",
        "\n",
        "print('Scaled min: ', scaled_img.min())\n",
        "print('Scaled max: ', scaled_img.max())"
      ]
    },
    {
      "cell_type": "code",
      "execution_count": null,
      "metadata": {
        "id": "aKgDwnKba8gv"
      },
      "outputs": [],
      "source": [
        "import torch.nn as nn\n",
        "import torch.nn.functional as F\n",
        "\n",
        "# helper conv function\n",
        "def conv(in_channels, out_channels, kernel_size, stride=2, padding=1, batch_norm=True):\n",
        "    \"\"\"Creates a convolutional layer, with optional batch normalization.\n",
        "    \"\"\"\n",
        "    layers = []\n",
        "    conv_layer = nn.Conv2d(in_channels=in_channels, out_channels=out_channels,\n",
        "                           kernel_size=kernel_size, stride=stride, padding=padding, bias=False)\n",
        "\n",
        "    layers.append(conv_layer)\n",
        "\n",
        "    if batch_norm:\n",
        "        layers.append(nn.BatchNorm2d(out_channels))\n",
        "    return nn.Sequential(*layers)"
      ]
    },
    {
      "cell_type": "code",
      "execution_count": null,
      "metadata": {
        "id": "k2sOoHl0a_3c"
      },
      "outputs": [],
      "source": [
        "class Discriminator(nn.Module):\n",
        "\n",
        "    def __init__(self, conv_dim=64):\n",
        "        super(Discriminator, self).__init__()\n",
        "\n",
        "        # Define all convolutional layers\n",
        "        # Should accept an RGB image as input and output a single value\n",
        "        self.layer_1 = conv(3,conv_dim,4,batch_norm = False)\n",
        "        self.layer_2 = conv(conv_dim,conv_dim*2,4)\n",
        "        self.layer_3 = conv(conv_dim*2,conv_dim*4,4)\n",
        "        self.layer_4 = conv(conv_dim*4,conv_dim*8,4)\n",
        "        self.layer_5 = conv(conv_dim*8,1,4,1,batch_norm = False)\n",
        "\n",
        "    def forward(self, x):\n",
        "        # define feedforward behavior\n",
        "        x = F.relu(self.layer_1(x))\n",
        "        x = F.relu(self.layer_2(x))\n",
        "        x = F.relu(self.layer_3(x))\n",
        "        x = F.relu(self.layer_4(x))\n",
        "\n",
        "        x = self.layer_5(x)\n",
        "        return x"
      ]
    },
    {
      "cell_type": "code",
      "execution_count": null,
      "metadata": {
        "id": "OSFWbs09bHYu"
      },
      "outputs": [],
      "source": [
        "# residual block class\n",
        "class ResidualBlock(nn.Module):\n",
        "    \"\"\"Defines a residual block.\n",
        "       This adds an input x to a convolutional layer (applied to x) with the same size input and output.\n",
        "       These blocks allow a model to learn an effective transformation from one domain to another.\n",
        "    \"\"\"\n",
        "    def __init__(self, conv_dim):\n",
        "        super(ResidualBlock, self).__init__()\n",
        "        # conv_dim = number of inputs\n",
        "\n",
        "        # define two convolutional layers + batch normalization that will act as our residual function, F(x)\n",
        "        # layers should have the same shape input as output; I suggest a kernel_size of 3\n",
        "        self.layer_1 = conv(conv_dim,conv_dim,3,1,1,batch_norm = True)\n",
        "        self.layer_2 = conv(conv_dim,conv_dim,3,1,1,batch_norm = True)\n",
        "\n",
        "    def forward(self, x):\n",
        "        # apply a ReLu activation the outputs of the first layer\n",
        "        # return a summed output, x + resnet_block(x)\n",
        "        out_1 = F.relu(self.layer_1(x))\n",
        "        out_2 = x + self.layer_2(out_1)\n",
        "\n",
        "        return out_2\n"
      ]
    },
    {
      "cell_type": "code",
      "execution_count": null,
      "metadata": {
        "id": "i0WJWPOpbKuA"
      },
      "outputs": [],
      "source": [
        "# helper deconv function\n",
        "def deconv(in_channels, out_channels, kernel_size, stride=2, padding=1, batch_norm=True):\n",
        "    \"\"\"Creates a transpose convolutional layer, with optional batch normalization.\n",
        "    \"\"\"\n",
        "    layers = []\n",
        "    # append transpose conv layer\n",
        "    layers.append(nn.ConvTranspose2d(in_channels, out_channels, kernel_size, stride, padding, bias=False))\n",
        "    # optional batch norm layer\n",
        "    if batch_norm:\n",
        "        layers.append(nn.BatchNorm2d(out_channels))\n",
        "    return nn.Sequential(*layers)"
      ]
    },
    {
      "cell_type": "code",
      "execution_count": null,
      "metadata": {
        "id": "51QvyFX3bPRv"
      },
      "outputs": [],
      "source": [
        "class CycleGenerator(nn.Module):\n",
        "\n",
        "    def __init__(self, conv_dim=64, n_res_blocks=6):\n",
        "        super(CycleGenerator, self).__init__()\n",
        "\n",
        "        # 1. Define the encoder part of the generator\n",
        "        self.layer_1 = conv(3,conv_dim,4)\n",
        "        self.layer_2 = conv(conv_dim,conv_dim*2,4)\n",
        "        self.layer_3 = conv(conv_dim*2,conv_dim*4,4)\n",
        "        # 2. Define the resnet part of the generator\n",
        "        layers = []\n",
        "        for n in range(n_res_blocks):\n",
        "            layers.append(ResidualBlock(conv_dim*4))\n",
        "        self.res_blocks = nn.Sequential(*layers)\n",
        "        # 3. Define the decoder part of the generator\n",
        "        self.layer_4 = deconv(conv_dim*4,conv_dim*2,4)\n",
        "        self.layer_5 = deconv(conv_dim*2,conv_dim,4)\n",
        "        self.layer_6 = deconv(conv_dim,3,4,batch_norm = False)\n",
        "\n",
        "    def forward(self, x):\n",
        "        \"\"\"Given an image x, returns a transformed image.\"\"\"\n",
        "        # define feedforward behavior, applying activations as necessary\n",
        "\n",
        "        out = F.relu(self.layer_1(x))\n",
        "        out = F.relu(self.layer_2(out))\n",
        "        out = F.relu(self.layer_3(out))\n",
        "\n",
        "        out = self.res_blocks(out)\n",
        "\n",
        "        out = F.relu(self.layer_4(out))\n",
        "        out = F.relu(self.layer_5(out))\n",
        "        out = F.tanh(self.layer_6(out))\n",
        "\n",
        "        return out"
      ]
    },
    {
      "cell_type": "code",
      "execution_count": null,
      "metadata": {
        "id": "qoUfQMaDbQYZ"
      },
      "outputs": [],
      "source": [
        "def create_model(g_conv_dim=64, d_conv_dim=64, n_res_blocks=6):\n",
        "    \"\"\"Builds the generators and discriminators.\"\"\"\n",
        "\n",
        "    # Instantiate generators\n",
        "    G_XtoY = CycleGenerator(g_conv_dim,n_res_blocks)\n",
        "    G_YtoX = CycleGenerator(g_conv_dim,n_res_blocks)\n",
        "    # Instantiate discriminators\n",
        "    D_X = Discriminator(d_conv_dim)\n",
        "    D_Y = Discriminator(d_conv_dim)\n",
        "\n",
        "\n",
        "    # move models to GPU, if available\n",
        "    if torch.cuda.is_available():\n",
        "        device = torch.device(\"cuda:0\")\n",
        "        G_XtoY.to(device)\n",
        "        G_YtoX.to(device)\n",
        "        D_X.to(device)\n",
        "        D_Y.to(device)\n",
        "        print('Models moved to GPU.')\n",
        "    else:\n",
        "        print('Only CPU available.')\n",
        "\n",
        "    return G_XtoY, G_YtoX, D_X, D_Y"
      ]
    },
    {
      "cell_type": "code",
      "execution_count": null,
      "metadata": {
        "colab": {
          "base_uri": "https://localhost:8080/",
          "height": 328
        },
        "id": "98bH0daUbTDc",
        "outputId": "4413a3f9-a35b-43d6-ef9e-be6f65c3c351"
      },
      "outputs": [
        {
          "ename": "NameError",
          "evalue": "ignored",
          "output_type": "error",
          "traceback": [
            "\u001b[0;31m---------------------------------------------------------------------------\u001b[0m",
            "\u001b[0;31mNameError\u001b[0m                                 Traceback (most recent call last)",
            "\u001b[0;32m<ipython-input-11-51921317152d>\u001b[0m in \u001b[0;36m<cell line: 2>\u001b[0;34m()\u001b[0m\n\u001b[1;32m      1\u001b[0m \u001b[0;31m# call the function to get models\u001b[0m\u001b[0;34m\u001b[0m\u001b[0;34m\u001b[0m\u001b[0m\n\u001b[0;32m----> 2\u001b[0;31m \u001b[0mG_XtoY\u001b[0m\u001b[0;34m,\u001b[0m \u001b[0mG_YtoX\u001b[0m\u001b[0;34m,\u001b[0m \u001b[0mD_X\u001b[0m\u001b[0;34m,\u001b[0m \u001b[0mD_Y\u001b[0m \u001b[0;34m=\u001b[0m \u001b[0mcreate_model\u001b[0m\u001b[0;34m(\u001b[0m\u001b[0;34m)\u001b[0m\u001b[0;34m\u001b[0m\u001b[0;34m\u001b[0m\u001b[0m\n\u001b[0m",
            "\u001b[0;32m<ipython-input-10-0288cd4a2434>\u001b[0m in \u001b[0;36mcreate_model\u001b[0;34m(g_conv_dim, d_conv_dim, n_res_blocks)\u001b[0m\n\u001b[1;32m      3\u001b[0m \u001b[0;34m\u001b[0m\u001b[0m\n\u001b[1;32m      4\u001b[0m     \u001b[0;31m# Instantiate generators\u001b[0m\u001b[0;34m\u001b[0m\u001b[0;34m\u001b[0m\u001b[0m\n\u001b[0;32m----> 5\u001b[0;31m     \u001b[0mG_XtoY\u001b[0m \u001b[0;34m=\u001b[0m \u001b[0mCycleGenerator\u001b[0m\u001b[0;34m(\u001b[0m\u001b[0mg_conv_dim\u001b[0m\u001b[0;34m,\u001b[0m\u001b[0mn_res_blocks\u001b[0m\u001b[0;34m)\u001b[0m\u001b[0;34m\u001b[0m\u001b[0;34m\u001b[0m\u001b[0m\n\u001b[0m\u001b[1;32m      6\u001b[0m     \u001b[0mG_YtoX\u001b[0m \u001b[0;34m=\u001b[0m \u001b[0mCycleGenerator\u001b[0m\u001b[0;34m(\u001b[0m\u001b[0mg_conv_dim\u001b[0m\u001b[0;34m,\u001b[0m\u001b[0mn_res_blocks\u001b[0m\u001b[0;34m)\u001b[0m\u001b[0;34m\u001b[0m\u001b[0;34m\u001b[0m\u001b[0m\n\u001b[1;32m      7\u001b[0m     \u001b[0;31m# Instantiate discriminators\u001b[0m\u001b[0;34m\u001b[0m\u001b[0;34m\u001b[0m\u001b[0m\n",
            "\u001b[0;32m<ipython-input-9-903ee3fc97c0>\u001b[0m in \u001b[0;36m__init__\u001b[0;34m(self, conv_dim, n_res_blocks)\u001b[0m\n\u001b[1;32m      5\u001b[0m \u001b[0;34m\u001b[0m\u001b[0m\n\u001b[1;32m      6\u001b[0m         \u001b[0;31m# 1. Define the encoder part of the generator\u001b[0m\u001b[0;34m\u001b[0m\u001b[0;34m\u001b[0m\u001b[0m\n\u001b[0;32m----> 7\u001b[0;31m         \u001b[0mself\u001b[0m\u001b[0;34m.\u001b[0m\u001b[0mlayer_1\u001b[0m \u001b[0;34m=\u001b[0m \u001b[0mconv\u001b[0m\u001b[0;34m(\u001b[0m\u001b[0;36m3\u001b[0m\u001b[0;34m,\u001b[0m\u001b[0mconv_dim\u001b[0m\u001b[0;34m,\u001b[0m\u001b[0;36m4\u001b[0m\u001b[0;34m)\u001b[0m\u001b[0;34m\u001b[0m\u001b[0;34m\u001b[0m\u001b[0m\n\u001b[0m\u001b[1;32m      8\u001b[0m         \u001b[0mself\u001b[0m\u001b[0;34m.\u001b[0m\u001b[0mlayer_2\u001b[0m \u001b[0;34m=\u001b[0m \u001b[0mconv\u001b[0m\u001b[0;34m(\u001b[0m\u001b[0mconv_dim\u001b[0m\u001b[0;34m,\u001b[0m\u001b[0mconv_dim\u001b[0m\u001b[0;34m*\u001b[0m\u001b[0;36m2\u001b[0m\u001b[0;34m,\u001b[0m\u001b[0;36m4\u001b[0m\u001b[0;34m)\u001b[0m\u001b[0;34m\u001b[0m\u001b[0;34m\u001b[0m\u001b[0m\n\u001b[1;32m      9\u001b[0m         \u001b[0mself\u001b[0m\u001b[0;34m.\u001b[0m\u001b[0mlayer_3\u001b[0m \u001b[0;34m=\u001b[0m \u001b[0mconv\u001b[0m\u001b[0;34m(\u001b[0m\u001b[0mconv_dim\u001b[0m\u001b[0;34m*\u001b[0m\u001b[0;36m2\u001b[0m\u001b[0;34m,\u001b[0m\u001b[0mconv_dim\u001b[0m\u001b[0;34m*\u001b[0m\u001b[0;36m4\u001b[0m\u001b[0;34m,\u001b[0m\u001b[0;36m4\u001b[0m\u001b[0;34m)\u001b[0m\u001b[0;34m\u001b[0m\u001b[0;34m\u001b[0m\u001b[0m\n",
            "\u001b[0;31mNameError\u001b[0m: name 'conv' is not defined"
          ]
        }
      ],
      "source": [
        "# call the function to get models\n",
        "G_XtoY, G_YtoX, D_X, D_Y = create_model()"
      ]
    },
    {
      "cell_type": "code",
      "execution_count": null,
      "metadata": {
        "colab": {
          "base_uri": "https://localhost:8080/",
          "height": 200
        },
        "id": "dmut3fCRbXpR",
        "outputId": "933d71bb-40b7-4d10-ffcd-2cab2b7669e4"
      },
      "outputs": [
        {
          "ename": "NameError",
          "evalue": "ignored",
          "output_type": "error",
          "traceback": [
            "\u001b[0;31m---------------------------------------------------------------------------\u001b[0m",
            "\u001b[0;31mNameError\u001b[0m                                 Traceback (most recent call last)",
            "\u001b[0;32m<ipython-input-12-9c388f214fd4>\u001b[0m in \u001b[0;36m<cell line: 27>\u001b[0;34m()\u001b[0m\n\u001b[1;32m     25\u001b[0m \u001b[0;34m\u001b[0m\u001b[0m\n\u001b[1;32m     26\u001b[0m \u001b[0;31m# print all of the models\u001b[0m\u001b[0;34m\u001b[0m\u001b[0;34m\u001b[0m\u001b[0m\n\u001b[0;32m---> 27\u001b[0;31m \u001b[0mprint_models\u001b[0m\u001b[0;34m(\u001b[0m\u001b[0mG_XtoY\u001b[0m\u001b[0;34m,\u001b[0m \u001b[0mG_YtoX\u001b[0m\u001b[0;34m,\u001b[0m \u001b[0mD_X\u001b[0m\u001b[0;34m,\u001b[0m \u001b[0mD_Y\u001b[0m\u001b[0;34m)\u001b[0m\u001b[0;34m\u001b[0m\u001b[0;34m\u001b[0m\u001b[0m\n\u001b[0m",
            "\u001b[0;31mNameError\u001b[0m: name 'G_XtoY' is not defined"
          ]
        }
      ],
      "source": [
        "# helper function for printing the model architecture\n",
        "def print_models(G_XtoY, G_YtoX, D_X, D_Y):\n",
        "    \"\"\"Prints model information for the generators and discriminators.\n",
        "    \"\"\"\n",
        "    print(\"                     G_XtoY                    \")\n",
        "    print(\"-----------------------------------------------\")\n",
        "    print(G_XtoY)\n",
        "    print()\n",
        "\n",
        "    print(\"                     G_YtoX                    \")\n",
        "    print(\"-----------------------------------------------\")\n",
        "    print(G_YtoX)\n",
        "    print()\n",
        "\n",
        "    print(\"                      D_X                      \")\n",
        "    print(\"-----------------------------------------------\")\n",
        "    print(D_X)\n",
        "    print()\n",
        "\n",
        "    print(\"                      D_Y                      \")\n",
        "    print(\"-----------------------------------------------\")\n",
        "    print(D_Y)\n",
        "    print()\n",
        "\n",
        "\n",
        "# print all of the models\n",
        "print_models(G_XtoY, G_YtoX, D_X, D_Y)"
      ]
    },
    {
      "cell_type": "code",
      "execution_count": null,
      "metadata": {
        "id": "6NvehplsbYqj"
      },
      "outputs": [],
      "source": [
        "def real_mse_loss(D_out):\n",
        "    # how close is the produced output from being \"real\"?\n",
        "    return torch.mean((D_out - 1)**2)\n",
        "\n",
        "\n",
        "def fake_mse_loss(D_out):\n",
        "    # how close is the produced output from being \"fake\"?\n",
        "    return torch.mean(D_out**2)\n",
        "\n",
        "def cycle_consistency_loss(real_im, reconstructed_im, lambda_weight):\n",
        "    # calculate reconstruction loss\n",
        "    # return weighted loss\n",
        "    loss = torch.mean(torch.abs(real_im - reconstructed_im))\n",
        "    return loss*lambda_weight"
      ]
    },
    {
      "cell_type": "code",
      "execution_count": null,
      "metadata": {
        "colab": {
          "base_uri": "https://localhost:8080/",
          "height": 235
        },
        "id": "bgcnv4Vqbc1N",
        "outputId": "7f43ccfd-d94b-427f-d797-d1f859494a5f"
      },
      "outputs": [
        {
          "ename": "NameError",
          "evalue": "ignored",
          "output_type": "error",
          "traceback": [
            "\u001b[0;31m---------------------------------------------------------------------------\u001b[0m",
            "\u001b[0;31mNameError\u001b[0m                                 Traceback (most recent call last)",
            "\u001b[0;32m<ipython-input-13-b20e308ecc60>\u001b[0m in \u001b[0;36m<cell line: 8>\u001b[0;34m()\u001b[0m\n\u001b[1;32m      6\u001b[0m \u001b[0mbeta2\u001b[0m\u001b[0;34m=\u001b[0m \u001b[0;36m0.999\u001b[0m\u001b[0;34m\u001b[0m\u001b[0;34m\u001b[0m\u001b[0m\n\u001b[1;32m      7\u001b[0m \u001b[0;34m\u001b[0m\u001b[0m\n\u001b[0;32m----> 8\u001b[0;31m \u001b[0mg_params\u001b[0m \u001b[0;34m=\u001b[0m \u001b[0mlist\u001b[0m\u001b[0;34m(\u001b[0m\u001b[0mG_XtoY\u001b[0m\u001b[0;34m.\u001b[0m\u001b[0mparameters\u001b[0m\u001b[0;34m(\u001b[0m\u001b[0;34m)\u001b[0m\u001b[0;34m)\u001b[0m \u001b[0;34m+\u001b[0m \u001b[0mlist\u001b[0m\u001b[0;34m(\u001b[0m\u001b[0mG_YtoX\u001b[0m\u001b[0;34m.\u001b[0m\u001b[0mparameters\u001b[0m\u001b[0;34m(\u001b[0m\u001b[0;34m)\u001b[0m\u001b[0;34m)\u001b[0m  \u001b[0;31m# Get generator parameters\u001b[0m\u001b[0;34m\u001b[0m\u001b[0;34m\u001b[0m\u001b[0m\n\u001b[0m\u001b[1;32m      9\u001b[0m \u001b[0;34m\u001b[0m\u001b[0m\n\u001b[1;32m     10\u001b[0m \u001b[0;31m# Create optimizers for the generators and discriminators\u001b[0m\u001b[0;34m\u001b[0m\u001b[0;34m\u001b[0m\u001b[0m\n",
            "\u001b[0;31mNameError\u001b[0m: name 'G_XtoY' is not defined"
          ]
        }
      ],
      "source": [
        "import torch.optim as optim\n",
        "\n",
        "# hyperparams for Adam optimizers\n",
        "lr= 0.0002\n",
        "beta1= 0.5\n",
        "beta2= 0.999\n",
        "\n",
        "g_params = list(G_XtoY.parameters()) + list(G_YtoX.parameters())  # Get generator parameters\n",
        "\n",
        "# Create optimizers for the generators and discriminators\n",
        "g_optimizer = optim.Adam(g_params, lr, [beta1, beta2])\n",
        "d_x_optimizer = optim.Adam(D_X.parameters(), lr, [beta1, beta2])\n",
        "d_y_optimizer = optim.Adam(D_Y.parameters(), lr, [beta1, beta2])"
      ]
    },
    {
      "cell_type": "code",
      "execution_count": null,
      "metadata": {
        "id": "vRQpdIt9bff9"
      },
      "outputs": [],
      "source": [
        "# import save code\n",
        "from helpers import save_samples, checkpoint"
      ]
    },
    {
      "cell_type": "code",
      "execution_count": null,
      "metadata": {
        "id": "kCasLsvnbiey"
      },
      "outputs": [],
      "source": [
        "# train the network\n",
        "def training_loop(dataloader_X, dataloader_Y, test_dataloader_X, test_dataloader_Y,\n",
        "                  n_epochs=1000):\n",
        "\n",
        "    print_every=10\n",
        "\n",
        "    # keep track of losses over time\n",
        "    losses = []\n",
        "\n",
        "    test_iter_X = iter(test_dataloader_X)\n",
        "    test_iter_Y = iter(test_dataloader_Y)\n",
        "\n",
        "    # Get some fixed data from domains X and Y for sampling. These are images that are held\n",
        "    # constant throughout training, that allow us to inspect the model's performance.\n",
        "    fixed_X = test_iter_X.next()[0]\n",
        "    fixed_Y = test_iter_Y.next()[0]\n",
        "    fixed_X = scale(fixed_X) # make sure to scale to a range -1 to 1\n",
        "    fixed_Y = scale(fixed_Y)\n",
        "\n",
        "    # batches per epoch\n",
        "    iter_X = iter(dataloader_X)\n",
        "    iter_Y = iter(dataloader_Y)\n",
        "    batches_per_epoch = min(len(iter_X), len(iter_Y))\n",
        "\n",
        "    for epoch in range(1, n_epochs+1):\n",
        "\n",
        "        # Reset iterators for each epoch\n",
        "        if epoch % batches_per_epoch == 0:\n",
        "            iter_X = iter(dataloader_X)\n",
        "            iter_Y = iter(dataloader_Y)\n",
        "\n",
        "        images_X, _ = iter_X.next()\n",
        "        images_X = scale(images_X) # make sure to scale to a range -1 to 1\n",
        "\n",
        "        images_Y, _ = iter_Y.next()\n",
        "        images_Y = scale(images_Y)\n",
        "\n",
        "        # move images to GPU if available (otherwise stay on CPU)\n",
        "        device = torch.device(\"cuda:0\" if torch.cuda.is_available() else \"cpu\")\n",
        "        images_X = images_X.to(device)\n",
        "        images_Y = images_Y.to(device)\n",
        "\n",
        "\n",
        "        # ============================================\n",
        "        #            TRAIN THE DISCRIMINATORS\n",
        "        # ============================================\n",
        "\n",
        "        ##   First: D_X, real and fake loss components   ##\n",
        "\n",
        "        # 1. Compute the discriminator losses on real images\n",
        "        d_x_optimizer.zero_grad()\n",
        "        real_D_loss = real_mse_loss(D_X(images_X))\n",
        "        # 3. Compute the fake loss for D_X\n",
        "        fake_D_loss = fake_mse_loss(D_X(G_YtoX(images_Y)))\n",
        "        # 4. Compute the total loss and perform backprop\n",
        "        d_x_loss = real_D_loss + fake_D_loss\n",
        "        d_x_loss.backward()\n",
        "        d_x_optimizer.step()\n",
        "\n",
        "        ##   Second: D_Y, real and fake loss components   ##\n",
        "        d_y_optimizer.zero_grad()\n",
        "        real_D_y_loss = real_mse_loss(D_Y(images_Y))\n",
        "\n",
        "        fake_D_y_loss = fake_mse_loss(D_Y(G_XtoY(images_X)))\n",
        "\n",
        "        d_y_loss = real_D_y_loss + fake_D_y_loss\n",
        "        d_y_loss.backward()\n",
        "        d_y_optimizer.step()\n",
        "\n",
        "\n",
        "        # =========================================\n",
        "        #            TRAIN THE GENERATORS\n",
        "        # =========================================\n",
        "\n",
        "        ##    First: generate fake X images and reconstructed Y images    ##\n",
        "        g_optimizer.zero_grad()\n",
        "        # 1. Generate fake images that look like domain X based on real images in domain Y\n",
        "        out_1 = G_YtoX(images_Y)\n",
        "        # 2. Compute the generator loss based on domain X\n",
        "        loss_1 = real_mse_loss(D_X(out_1))\n",
        "        # 3. Create a reconstructed y\n",
        "        out_2 = G_XtoY(out_1)\n",
        "        # 4. Compute the cycle consistency loss (the reconstruction loss)\n",
        "        loss_2 = cycle_consistency_loss(real_im = images_Y, reconstructed_im = out_2, lambda_weight=10)\n",
        "\n",
        "        ##    Second: generate fake Y images and reconstructed X images    ##\n",
        "        out_3 = G_XtoY(images_X)\n",
        "        # 5. Add up all generator and reconstructed losses and perform backprop\n",
        "        loss_3 = real_mse_loss(D_Y(out_3))\n",
        "        out_4 = G_YtoX(out_3)\n",
        "        loss_4 =  cycle_consistency_loss(real_im = images_X, reconstructed_im = out_4, lambda_weight=10)\n",
        "\n",
        "        g_total_loss = loss_1 + loss_2 + loss_3 + loss_4\n",
        "        g_total_loss.backward()\n",
        "        g_optimizer.step()\n",
        "\n",
        "        # Print the log info\n",
        "        if epoch % print_every == 0:\n",
        "            # append real and fake discriminator losses and the generator loss\n",
        "            losses.append((d_x_loss.item(), d_y_loss.item(), g_total_loss.item()))\n",
        "            print('Epoch [{:5d}/{:5d}] | d_X_loss: {:6.4f} | d_Y_loss: {:6.4f} | g_total_loss: {:6.4f}'.format(\n",
        "                    epoch, n_epochs, d_x_loss.item(), d_y_loss.item(), g_total_loss.item()))\n",
        "\n",
        "\n",
        "        sample_every=100\n",
        "        # Save the generated samples\n",
        "        if epoch % sample_every == 0:\n",
        "            G_YtoX.eval() # set generators to eval mode for sample generation\n",
        "            G_XtoY.eval()\n",
        "            save_samples(epoch, fixed_Y, fixed_X, G_YtoX, G_XtoY, batch_size=16)\n",
        "            G_YtoX.train()\n",
        "            G_XtoY.train()\n",
        "\n",
        "        # uncomment these lines, if you want to save your model\n",
        "#         checkpoint_every=1000\n",
        "#         # Save the model parameters\n",
        "#         if epoch % checkpoint_every == 0:\n",
        "#             checkpoint(epoch, G_XtoY, G_YtoX, D_X, D_Y)\n",
        "\n",
        "    return losses"
      ]
    },
    {
      "cell_type": "code",
      "execution_count": null,
      "metadata": {
        "colab": {
          "base_uri": "https://localhost:8080/",
          "height": 200
        },
        "id": "3C8NzI59bnPd",
        "outputId": "5f827b6c-ca97-4ccd-bb1c-28eb56f5cb66"
      },
      "outputs": [
        {
          "ename": "NameError",
          "evalue": "ignored",
          "output_type": "error",
          "traceback": [
            "\u001b[0;31m---------------------------------------------------------------------------\u001b[0m",
            "\u001b[0;31mNameError\u001b[0m                                 Traceback (most recent call last)",
            "\u001b[0;32m<ipython-input-15-93277019d3f8>\u001b[0m in \u001b[0;36m<cell line: 3>\u001b[0;34m()\u001b[0m\n\u001b[1;32m      1\u001b[0m \u001b[0mn_epochs\u001b[0m \u001b[0;34m=\u001b[0m \u001b[0;36m5000\u001b[0m \u001b[0;31m# keep this small when testing if a model first works, then increase it to >=1000\u001b[0m\u001b[0;34m\u001b[0m\u001b[0;34m\u001b[0m\u001b[0m\n\u001b[1;32m      2\u001b[0m \u001b[0;34m\u001b[0m\u001b[0m\n\u001b[0;32m----> 3\u001b[0;31m \u001b[0mlosses\u001b[0m \u001b[0;34m=\u001b[0m \u001b[0mtraining_loop\u001b[0m\u001b[0;34m(\u001b[0m\u001b[0mdataloader_X\u001b[0m\u001b[0;34m,\u001b[0m \u001b[0mdataloader_Y\u001b[0m\u001b[0;34m,\u001b[0m \u001b[0mtest_dataloader_X\u001b[0m\u001b[0;34m,\u001b[0m \u001b[0mtest_dataloader_Y\u001b[0m\u001b[0;34m,\u001b[0m \u001b[0mn_epochs\u001b[0m\u001b[0;34m=\u001b[0m\u001b[0mn_epochs\u001b[0m\u001b[0;34m)\u001b[0m\u001b[0;34m\u001b[0m\u001b[0;34m\u001b[0m\u001b[0m\n\u001b[0m",
            "\u001b[0;31mNameError\u001b[0m: name 'dataloader_X' is not defined"
          ]
        }
      ],
      "source": [
        "\n",
        "n_epochs = 5000 # keep this small when testing if a model first works, then increase it to >=1000\n",
        "\n",
        "losses = training_loop(dataloader_X, dataloader_Y, test_dataloader_X, test_dataloader_Y, n_epochs=n_epochs)\n"
      ]
    },
    {
      "cell_type": "code",
      "execution_count": null,
      "metadata": {
        "id": "Nwd_EdbBbrF-"
      },
      "outputs": [],
      "source": [
        "fig, ax = plt.subplots(figsize=(12,8))\n",
        "losses = np.array(losses)\n",
        "plt.plot(losses.T[0], label='Discriminator, X', alpha=0.5)\n",
        "plt.plot(losses.T[1], label='Discriminator, Y', alpha=0.5)\n",
        "plt.plot(losses.T[2], label='Generators', alpha=0.5)\n",
        "plt.title(\"Training Losses\")\n",
        "plt.legend()"
      ]
    },
    {
      "cell_type": "code",
      "execution_count": null,
      "metadata": {
        "id": "jWHJgAxnbxdB"
      },
      "outputs": [],
      "source": [
        "import matplotlib.image as mpimg\n",
        "\n",
        "# helper visualization code\n",
        "def view_samples(iteration, sample_dir='samples_cyclegan'):\n",
        "\n",
        "    # samples are named by iteration\n",
        "    path_XtoY = os.path.join(sample_dir, 'sample-{:06d}-X-Y.png'.format(iteration))\n",
        "    path_YtoX = os.path.join(sample_dir, 'sample-{:06d}-Y-X.png'.format(iteration))\n",
        "\n",
        "    # read in those samples\n",
        "    try:\n",
        "        x2y = mpimg.imread(path_XtoY)\n",
        "        y2x = mpimg.imread(path_YtoX)\n",
        "    except:\n",
        "        print('Invalid number of iterations.')\n",
        "\n",
        "    fig, (ax1, ax2) = plt.subplots(figsize=(18,20), nrows=2, ncols=1, sharey=True, sharex=True)\n",
        "    ax1.imshow(x2y)\n",
        "    ax1.set_title('X to Y')\n",
        "    ax2.imshow(y2x)\n",
        "    ax2.set_title('Y to X')"
      ]
    },
    {
      "cell_type": "code",
      "execution_count": null,
      "metadata": {
        "colab": {
          "base_uri": "https://localhost:8080/",
          "height": 183
        },
        "id": "-IH9nzxUbyZL",
        "outputId": "b0ccde6b-7181-4cb5-c327-cfc1b5b8ff62"
      },
      "outputs": [
        {
          "ename": "NameError",
          "evalue": "ignored",
          "output_type": "error",
          "traceback": [
            "\u001b[0;31m---------------------------------------------------------------------------\u001b[0m",
            "\u001b[0;31mNameError\u001b[0m                                 Traceback (most recent call last)",
            "\u001b[0;32m<ipython-input-17-b88b57381db7>\u001b[0m in \u001b[0;36m<cell line: 2>\u001b[0;34m()\u001b[0m\n\u001b[1;32m      1\u001b[0m \u001b[0;31m# view samples at iteration 100\u001b[0m\u001b[0;34m\u001b[0m\u001b[0;34m\u001b[0m\u001b[0m\n\u001b[0;32m----> 2\u001b[0;31m \u001b[0mview_samples\u001b[0m\u001b[0;34m(\u001b[0m\u001b[0;36m100\u001b[0m\u001b[0;34m,\u001b[0m \u001b[0;34m'samples_cyclegan'\u001b[0m\u001b[0;34m)\u001b[0m\u001b[0;34m\u001b[0m\u001b[0;34m\u001b[0m\u001b[0m\n\u001b[0m",
            "\u001b[0;31mNameError\u001b[0m: name 'view_samples' is not defined"
          ]
        }
      ],
      "source": [
        "# view samples at iteration 100\n",
        "view_samples(100, 'samples_cyclegan')"
      ]
    },
    {
      "cell_type": "code",
      "execution_count": null,
      "metadata": {
        "id": "ULQrpu2Ib2JJ"
      },
      "outputs": [],
      "source": [
        "# view samples at iteration 1000\n",
        "view_samples(1000, 'samples_cyclegan')"
      ]
    },
    {
      "cell_type": "code",
      "execution_count": null,
      "metadata": {
        "id": "crtJS-nFb4dk"
      },
      "outputs": [],
      "source": [
        "view_samples(5000,'samples_cyclegan')"
      ]
    }
  ],
  "metadata": {
    "colab": {
      "provenance": [],
      "include_colab_link": true
    },
    "kernelspec": {
      "display_name": "Python 3",
      "name": "python3"
    },
    "language_info": {
      "name": "python"
    }
  },
  "nbformat": 4,
  "nbformat_minor": 0
}